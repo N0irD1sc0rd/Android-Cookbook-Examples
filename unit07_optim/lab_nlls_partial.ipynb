{
  "cells": [
    {
      "cell_type": "markdown",
      "metadata": {
        "id": "p-1T-24K1J9Z"
      },
      "source": [
        "# Lab:  Nonlinear Least Squares for Modeling Materials\n",
        "\n",
        "Nonlinear least squares (NLLS) is a widely-used method for modeling data.  In NLLS, we wish to fit a model of the form,\n",
        "\n",
        "     yhat = g(x,w)\n",
        "     \n",
        "where `w` is a vector of paramters and `x` is the vector of predictors.  We find `w` by minimizing a least-squares function\n",
        "\n",
        "     f(w) = \\sum_i (y_i - g(x_i,w))^2\n",
        "     \n",
        "where the summation is over training samples `(x_i,y_i)`.  This is similar to linear least-squares, but the function `g(x,w)` may not be linear in `w`.  In general, this optimization has no closed-form expression.  So numerical optimization must be used.  \n",
        "\n",
        "In this lab, we will implement gradient descent on NLLS in a problem of physical modeling of materials.  Specifically, we will estimate parameters for expansion of copper as a function of temperature using a real dataset.  In doing this lab, you will learn to:\n",
        "* Set up a nonlinear least squares as an unconstrained optimization function\n",
        "* Compute initial parameter estimates for a simple rational model\n",
        "* Compute the gradients of the least squares objective\n",
        "* Implement gradient descent for minimizing the objective\n",
        "* Implement momentum gradient descent\n",
        "* Visualize the convergence of the algorithm\n",
        "\n",
        "We first import some key packages."
      ]
    },
    {
      "cell_type": "code",
      "execution_count": 1,
      "metadata": {
        "id": "R5ed11Bm1J9a"
      },
      "outputs": [],
      "source": [
        "import pandas as pd\n",
        "import numpy as np\n",
        "import matplotlib.pyplot as plt\n",
        "from sklearn.linear_model import Ridge, LinearRegression"
      ]
    },
    {
      "cell_type": "markdown",
      "metadata": {
        "id": "ZJG9otTM1J9b"
      },
      "source": [
        "## Load the Data\n",
        "\n",
        "The NIST agency has an excellent [nonlinear regression website](https://www.itl.nist.gov/div898/strd/nls/nls_main.shtml) that has several datasets for nonlinear regression problems.  In this lab, we will use the data from a NIST study involving the thermal expansion of copper. The response variable is the coefficient of thermal expansion, and the predictor variable is temperature in degrees kelvin.  \n",
        "\n",
        "> Hahn, T., NIST (1979), Copper Thermal Expansion Study.  (unpublished}\n",
        "\n",
        "You can download the data as follows."
      ]
    },
    {
      "cell_type": "code",
      "execution_count": 2,
      "metadata": {
        "id": "Lb1OPJgW1J9b",
        "outputId": "af6140e1-1b00-44c6-f336-23482c9c41e6",
        "colab": {
          "base_uri": "https://localhost:8080/",
          "height": 206
        }
      },
      "outputs": [
        {
          "output_type": "execute_result",
          "data": {
            "text/plain": [
              "      y0     x0  dummy\n",
              "0  0.591  24.41    NaN\n",
              "1  1.547  34.82    NaN\n",
              "2  2.902  44.09    NaN\n",
              "3  2.894  45.07    NaN\n",
              "4  4.703  54.98    NaN"
            ],
            "text/html": [
              "\n",
              "  <div id=\"df-1f36b4d3-f543-40fa-a5a0-85dd5066ce65\" class=\"colab-df-container\">\n",
              "    <div>\n",
              "<style scoped>\n",
              "    .dataframe tbody tr th:only-of-type {\n",
              "        vertical-align: middle;\n",
              "    }\n",
              "\n",
              "    .dataframe tbody tr th {\n",
              "        vertical-align: top;\n",
              "    }\n",
              "\n",
              "    .dataframe thead th {\n",
              "        text-align: right;\n",
              "    }\n",
              "</style>\n",
              "<table border=\"1\" class=\"dataframe\">\n",
              "  <thead>\n",
              "    <tr style=\"text-align: right;\">\n",
              "      <th></th>\n",
              "      <th>y0</th>\n",
              "      <th>x0</th>\n",
              "      <th>dummy</th>\n",
              "    </tr>\n",
              "  </thead>\n",
              "  <tbody>\n",
              "    <tr>\n",
              "      <th>0</th>\n",
              "      <td>0.591</td>\n",
              "      <td>24.41</td>\n",
              "      <td>NaN</td>\n",
              "    </tr>\n",
              "    <tr>\n",
              "      <th>1</th>\n",
              "      <td>1.547</td>\n",
              "      <td>34.82</td>\n",
              "      <td>NaN</td>\n",
              "    </tr>\n",
              "    <tr>\n",
              "      <th>2</th>\n",
              "      <td>2.902</td>\n",
              "      <td>44.09</td>\n",
              "      <td>NaN</td>\n",
              "    </tr>\n",
              "    <tr>\n",
              "      <th>3</th>\n",
              "      <td>2.894</td>\n",
              "      <td>45.07</td>\n",
              "      <td>NaN</td>\n",
              "    </tr>\n",
              "    <tr>\n",
              "      <th>4</th>\n",
              "      <td>4.703</td>\n",
              "      <td>54.98</td>\n",
              "      <td>NaN</td>\n",
              "    </tr>\n",
              "  </tbody>\n",
              "</table>\n",
              "</div>\n",
              "    <div class=\"colab-df-buttons\">\n",
              "\n",
              "  <div class=\"colab-df-container\">\n",
              "    <button class=\"colab-df-convert\" onclick=\"convertToInteractive('df-1f36b4d3-f543-40fa-a5a0-85dd5066ce65')\"\n",
              "            title=\"Convert this dataframe to an interactive table.\"\n",
              "            style=\"display:none;\">\n",
              "\n",
              "  <svg xmlns=\"http://www.w3.org/2000/svg\" height=\"24px\" viewBox=\"0 -960 960 960\">\n",
              "    <path d=\"M120-120v-720h720v720H120Zm60-500h600v-160H180v160Zm220 220h160v-160H400v160Zm0 220h160v-160H400v160ZM180-400h160v-160H180v160Zm440 0h160v-160H620v160ZM180-180h160v-160H180v160Zm440 0h160v-160H620v160Z\"/>\n",
              "  </svg>\n",
              "    </button>\n",
              "\n",
              "  <style>\n",
              "    .colab-df-container {\n",
              "      display:flex;\n",
              "      gap: 12px;\n",
              "    }\n",
              "\n",
              "    .colab-df-convert {\n",
              "      background-color: #E8F0FE;\n",
              "      border: none;\n",
              "      border-radius: 50%;\n",
              "      cursor: pointer;\n",
              "      display: none;\n",
              "      fill: #1967D2;\n",
              "      height: 32px;\n",
              "      padding: 0 0 0 0;\n",
              "      width: 32px;\n",
              "    }\n",
              "\n",
              "    .colab-df-convert:hover {\n",
              "      background-color: #E2EBFA;\n",
              "      box-shadow: 0px 1px 2px rgba(60, 64, 67, 0.3), 0px 1px 3px 1px rgba(60, 64, 67, 0.15);\n",
              "      fill: #174EA6;\n",
              "    }\n",
              "\n",
              "    .colab-df-buttons div {\n",
              "      margin-bottom: 4px;\n",
              "    }\n",
              "\n",
              "    [theme=dark] .colab-df-convert {\n",
              "      background-color: #3B4455;\n",
              "      fill: #D2E3FC;\n",
              "    }\n",
              "\n",
              "    [theme=dark] .colab-df-convert:hover {\n",
              "      background-color: #434B5C;\n",
              "      box-shadow: 0px 1px 3px 1px rgba(0, 0, 0, 0.15);\n",
              "      filter: drop-shadow(0px 1px 2px rgba(0, 0, 0, 0.3));\n",
              "      fill: #FFFFFF;\n",
              "    }\n",
              "  </style>\n",
              "\n",
              "    <script>\n",
              "      const buttonEl =\n",
              "        document.querySelector('#df-1f36b4d3-f543-40fa-a5a0-85dd5066ce65 button.colab-df-convert');\n",
              "      buttonEl.style.display =\n",
              "        google.colab.kernel.accessAllowed ? 'block' : 'none';\n",
              "\n",
              "      async function convertToInteractive(key) {\n",
              "        const element = document.querySelector('#df-1f36b4d3-f543-40fa-a5a0-85dd5066ce65');\n",
              "        const dataTable =\n",
              "          await google.colab.kernel.invokeFunction('convertToInteractive',\n",
              "                                                    [key], {});\n",
              "        if (!dataTable) return;\n",
              "\n",
              "        const docLinkHtml = 'Like what you see? Visit the ' +\n",
              "          '<a target=\"_blank\" href=https://colab.research.google.com/notebooks/data_table.ipynb>data table notebook</a>'\n",
              "          + ' to learn more about interactive tables.';\n",
              "        element.innerHTML = '';\n",
              "        dataTable['output_type'] = 'display_data';\n",
              "        await google.colab.output.renderOutput(dataTable, element);\n",
              "        const docLink = document.createElement('div');\n",
              "        docLink.innerHTML = docLinkHtml;\n",
              "        element.appendChild(docLink);\n",
              "      }\n",
              "    </script>\n",
              "  </div>\n",
              "\n",
              "\n",
              "<div id=\"df-dcfb2caa-05b3-4bca-a8ee-162e40767f00\">\n",
              "  <button class=\"colab-df-quickchart\" onclick=\"quickchart('df-dcfb2caa-05b3-4bca-a8ee-162e40767f00')\"\n",
              "            title=\"Suggest charts\"\n",
              "            style=\"display:none;\">\n",
              "\n",
              "<svg xmlns=\"http://www.w3.org/2000/svg\" height=\"24px\"viewBox=\"0 0 24 24\"\n",
              "     width=\"24px\">\n",
              "    <g>\n",
              "        <path d=\"M19 3H5c-1.1 0-2 .9-2 2v14c0 1.1.9 2 2 2h14c1.1 0 2-.9 2-2V5c0-1.1-.9-2-2-2zM9 17H7v-7h2v7zm4 0h-2V7h2v10zm4 0h-2v-4h2v4z\"/>\n",
              "    </g>\n",
              "</svg>\n",
              "  </button>\n",
              "\n",
              "<style>\n",
              "  .colab-df-quickchart {\n",
              "      --bg-color: #E8F0FE;\n",
              "      --fill-color: #1967D2;\n",
              "      --hover-bg-color: #E2EBFA;\n",
              "      --hover-fill-color: #174EA6;\n",
              "      --disabled-fill-color: #AAA;\n",
              "      --disabled-bg-color: #DDD;\n",
              "  }\n",
              "\n",
              "  [theme=dark] .colab-df-quickchart {\n",
              "      --bg-color: #3B4455;\n",
              "      --fill-color: #D2E3FC;\n",
              "      --hover-bg-color: #434B5C;\n",
              "      --hover-fill-color: #FFFFFF;\n",
              "      --disabled-bg-color: #3B4455;\n",
              "      --disabled-fill-color: #666;\n",
              "  }\n",
              "\n",
              "  .colab-df-quickchart {\n",
              "    background-color: var(--bg-color);\n",
              "    border: none;\n",
              "    border-radius: 50%;\n",
              "    cursor: pointer;\n",
              "    display: none;\n",
              "    fill: var(--fill-color);\n",
              "    height: 32px;\n",
              "    padding: 0;\n",
              "    width: 32px;\n",
              "  }\n",
              "\n",
              "  .colab-df-quickchart:hover {\n",
              "    background-color: var(--hover-bg-color);\n",
              "    box-shadow: 0 1px 2px rgba(60, 64, 67, 0.3), 0 1px 3px 1px rgba(60, 64, 67, 0.15);\n",
              "    fill: var(--button-hover-fill-color);\n",
              "  }\n",
              "\n",
              "  .colab-df-quickchart-complete:disabled,\n",
              "  .colab-df-quickchart-complete:disabled:hover {\n",
              "    background-color: var(--disabled-bg-color);\n",
              "    fill: var(--disabled-fill-color);\n",
              "    box-shadow: none;\n",
              "  }\n",
              "\n",
              "  .colab-df-spinner {\n",
              "    border: 2px solid var(--fill-color);\n",
              "    border-color: transparent;\n",
              "    border-bottom-color: var(--fill-color);\n",
              "    animation:\n",
              "      spin 1s steps(1) infinite;\n",
              "  }\n",
              "\n",
              "  @keyframes spin {\n",
              "    0% {\n",
              "      border-color: transparent;\n",
              "      border-bottom-color: var(--fill-color);\n",
              "      border-left-color: var(--fill-color);\n",
              "    }\n",
              "    20% {\n",
              "      border-color: transparent;\n",
              "      border-left-color: var(--fill-color);\n",
              "      border-top-color: var(--fill-color);\n",
              "    }\n",
              "    30% {\n",
              "      border-color: transparent;\n",
              "      border-left-color: var(--fill-color);\n",
              "      border-top-color: var(--fill-color);\n",
              "      border-right-color: var(--fill-color);\n",
              "    }\n",
              "    40% {\n",
              "      border-color: transparent;\n",
              "      border-right-color: var(--fill-color);\n",
              "      border-top-color: var(--fill-color);\n",
              "    }\n",
              "    60% {\n",
              "      border-color: transparent;\n",
              "      border-right-color: var(--fill-color);\n",
              "    }\n",
              "    80% {\n",
              "      border-color: transparent;\n",
              "      border-right-color: var(--fill-color);\n",
              "      border-bottom-color: var(--fill-color);\n",
              "    }\n",
              "    90% {\n",
              "      border-color: transparent;\n",
              "      border-bottom-color: var(--fill-color);\n",
              "    }\n",
              "  }\n",
              "</style>\n",
              "\n",
              "  <script>\n",
              "    async function quickchart(key) {\n",
              "      const quickchartButtonEl =\n",
              "        document.querySelector('#' + key + ' button');\n",
              "      quickchartButtonEl.disabled = true;  // To prevent multiple clicks.\n",
              "      quickchartButtonEl.classList.add('colab-df-spinner');\n",
              "      try {\n",
              "        const charts = await google.colab.kernel.invokeFunction(\n",
              "            'suggestCharts', [key], {});\n",
              "      } catch (error) {\n",
              "        console.error('Error during call to suggestCharts:', error);\n",
              "      }\n",
              "      quickchartButtonEl.classList.remove('colab-df-spinner');\n",
              "      quickchartButtonEl.classList.add('colab-df-quickchart-complete');\n",
              "    }\n",
              "    (() => {\n",
              "      let quickchartButtonEl =\n",
              "        document.querySelector('#df-dcfb2caa-05b3-4bca-a8ee-162e40767f00 button');\n",
              "      quickchartButtonEl.style.display =\n",
              "        google.colab.kernel.accessAllowed ? 'block' : 'none';\n",
              "    })();\n",
              "  </script>\n",
              "</div>\n",
              "\n",
              "    </div>\n",
              "  </div>\n"
            ],
            "application/vnd.google.colaboratory.intrinsic+json": {
              "type": "dataframe",
              "variable_name": "df",
              "summary": "{\n  \"name\": \"df\",\n  \"rows\": 236,\n  \"fields\": [\n    {\n      \"column\": \"y0\",\n      \"properties\": {\n        \"dtype\": \"number\",\n        \"std\": 5.768686314274602,\n        \"min\": 0.08,\n        \"max\": 21.085,\n        \"num_unique_values\": 234,\n        \"samples\": [\n          14.067,\n          18.404,\n          2.813\n        ],\n        \"semantic_type\": \"\",\n        \"description\": \"\"\n      }\n    },\n    {\n      \"column\": \"x0\",\n      \"properties\": {\n        \"dtype\": \"number\",\n        \"std\": 227.44618345431448,\n        \"min\": 14.13,\n        \"max\": 851.61,\n        \"num_unique_values\": 235,\n        \"samples\": [\n          163.19,\n          523.03,\n          44.18\n        ],\n        \"semantic_type\": \"\",\n        \"description\": \"\"\n      }\n    },\n    {\n      \"column\": \"dummy\",\n      \"properties\": {\n        \"dtype\": \"number\",\n        \"std\": null,\n        \"min\": null,\n        \"max\": null,\n        \"num_unique_values\": 0,\n        \"samples\": [],\n        \"semantic_type\": \"\",\n        \"description\": \"\"\n      }\n    }\n  ]\n}"
            }
          },
          "metadata": {},
          "execution_count": 2
        }
      ],
      "source": [
        "url = 'https://itl.nist.gov/div898/strd/nls/data/LINKS/DATA/Hahn1.dat'\n",
        "df = pd.read_csv(url, skiprows=60, sep=' ',skipinitialspace=True, names=['y0','x0','dummy'])\n",
        "df.head()"
      ]
    },
    {
      "cell_type": "markdown",
      "metadata": {
        "id": "AnF9dbPY1J9b"
      },
      "source": [
        "Extract the `x0` and `y0` into arrays.  Rescale, `x0` and `y0` to values between `0` and `1` by dividing `x0` and `y0` by the maximum value.  Store the scaled values in vectors `x` and `y`.  The rescaling will help with the conditioning of the fitting.  Plot, `y` vs. `x`."
      ]
    },
    {
      "cell_type": "code",
      "execution_count": 3,
      "metadata": {
        "id": "TsJOLrfs1J9c",
        "outputId": "30a5b0a1-fde0-4a8d-db11-1dfadc50ead3",
        "colab": {
          "base_uri": "https://localhost:8080/",
          "height": 448
        }
      },
      "outputs": [
        {
          "output_type": "execute_result",
          "data": {
            "text/plain": [
              "[<matplotlib.lines.Line2D at 0x7bcd12117430>]"
            ]
          },
          "metadata": {},
          "execution_count": 3
        },
        {
          "output_type": "display_data",
          "data": {
            "text/plain": [
              "<Figure size 640x480 with 1 Axes>"
            ],
            "image/png": "[encoded data removed]"
          },
          "metadata": {}
        }
      ],
      "source": [
        "# TODO 1\n",
        "# x0 = ...\n",
        "# y0 = ...\n",
        "# x = x0/np.max(x0)\n",
        "# y = y0/np.max(y0)\n",
        "# plt.plot(...)\n",
        "x0 = df['x0'].values\n",
        "y0 = df['y0'].values\n",
        "x = x0/np.max(x0)\n",
        "y = y0/np.max(y0)\n",
        "plt.plot(x,y,'o')"
      ]
    },
    {
      "cell_type": "markdown",
      "metadata": {
        "id": "e-bQ-j8Z1J9c"
      },
      "source": [
        "To make the problem a little more challenging, we will add some noise.  Add random Gaussian noise with mean 0 and std. dev = 0.02 to `y`.  Store the noisy results in `yn`. You can use the `np.random.normal()` function to add Gaussian noise. Plot `yn` vs. `x`."
      ]
    },
    {
      "cell_type": "code",
      "execution_count": 4,
      "metadata": {
        "id": "K_J2wujr1J9d",
        "outputId": "9f79bf2e-c8f4-40af-8b1d-702e453defca",
        "colab": {
          "base_uri": "https://localhost:8080/",
          "height": 448
        }
      },
      "outputs": [
        {
          "output_type": "execute_result",
          "data": {
            "text/plain": [
              "[<matplotlib.lines.Line2D at 0x7bcd12a843d0>]"
            ]
          },
          "metadata": {},
          "execution_count": 4
        },
        {
          "output_type": "display_data",
          "data": {
            "text/plain": [
              "<Figure size 640x480 with 1 Axes>"
            ],
            "image/png": "[encoded data removed]"
          },
          "metadata": {}
        }
      ],
      "source": [
        "# TODO 2\n",
        "# yn = y + ...\n",
        "yn = y + np.random.normal(0,0.02,len(y))\n",
        "plt.plot(x,yn,'o')"
      ]
    },
    {
      "cell_type": "markdown",
      "metadata": {
        "id": "iiK1EBM81J9d"
      },
      "source": [
        "Split the data `(x,yn)` into training and test.  Let `xtr,ytr` be training data and `xts,yts` be the test data.  You can use the `train_test_split` function.  Set `test_size=0.33` so that 1/3 of the samples are held out for test."
      ]
    },
    {
      "cell_type": "code",
      "execution_count": null,
      "metadata": {
        "id": "MMwMZS0t1J9e"
      },
      "outputs": [],
      "source": [
        "from sklearn.model_selection import train_test_split\n",
        "\n",
        "# TODO 3\n",
        "# xtr, xts, ytr, yts = ...\n",
        "xtr, xts, ytr, yts = train_test_split(x,yn,test_size=0.33)"
      ]
    },
    {
      "cell_type": "markdown",
      "metadata": {
        "id": "GramZTk-1J9e"
      },
      "source": [
        "## Initial Fit for a Rational Model\n",
        "\n",
        "The [NIST website](https://www.itl.nist.gov/div898/strd/nls/data/hahn1.shtml) suggests using a *rational* model of the form,\n",
        "\n",
        "      yhat = (a[0] + a[1]*x + ... + a[d]*x^d)/(1 + b[0]*x + ... + b[d-1]*x^d)\n",
        "      \n",
        "with `d=3`.  The model parameters are `w = [a[0],...,a[d],b[0],...,b[d-1]]` so there are `2d+1` parameters total.    Complete the function below that takes vectors `w` and `x` and predicts a set of values `yhat` using the above model.\n",
        "   "
      ]
    },
    {
      "cell_type": "code",
      "execution_count": null,
      "metadata": {
        "id": "KLk_E32t1J9e"
      },
      "outputs": [],
      "source": [
        "def predict(w,x):\n",
        "\n",
        "    # Get the length\n",
        "    d = (len(w)-1)//2\n",
        "\n",
        "    # TODO 4.  Extract a and b from w\n",
        "    # a = ...\n",
        "    # b = ...\n",
        "    a = w[:d+1]\n",
        "    b = w[d+1:]\n",
        "\n",
        "    # TODO 5.  Compute yhat.  You may use the np.polyval function\n",
        "    # But, remember you must flip the order the a and b\n",
        "    # yhat = ...\n",
        "    yhat = np.polyval(a[::-1],x) / (1 + np.polyval(b[::-1],x))\n",
        "    return yhat"
      ]
    },
    {
      "cell_type": "markdown",
      "metadata": {
        "id": "hXNLL2Ki1J9e"
      },
      "source": [
        "When we fit with a nonlinear model, most methods only get convergence to a local minima.  So, you need a good initial condition.  For a rational model, one way to get is to realize that if:\n",
        "\n",
        "\n",
        "    y ~= (a[0] + a[1]*x + ... + a[d]*x^d)/(1 + b[0]*x + ... + b[d-1]*x^d)\n",
        "    \n",
        "Then:\n",
        "\n",
        "    y ~= a[0] + a[1]*x + ... + a[d]*x^d - b[0]*x*y + ... - b[d-1]*x^d*y.\n",
        "    \n",
        "So, we can solve for the the parameters `w = [a,b]` from linear regression of the predictors,\n",
        "\n",
        "    Z[i,:] = [ x[i], ... , x[i]**d, y[i]*x[i], ... , y[i}*x[i]**d ]"
      ]
    },
    {
      "cell_type": "code",
      "execution_count": null,
      "metadata": {
        "id": "UUkxDkXe1J9f"
      },
      "outputs": [],
      "source": [
        "from os import register_at_fork\n",
        "d = 3\n",
        "\n",
        "# TODO 6.  Create the transformed feature matrix\n",
        "# Z = ...\n",
        "Z = np.c_[xtr**np.arange(d+1),ytr*xtr**np.arange(d)]\n",
        "\n",
        "# TODO 7.  Fit with parameters with linear regression\n",
        "# regr = LinearRegression()\n",
        "# regr.fit(...)\n",
        "regr = LinearRegression()\n",
        "regr.fit(Z,ytr)\n",
        "\n",
        "# TODO 8\n",
        "# Extract the parameters from regr.coef_ and regr.intercept_ and store the parameter vector in winit\n",
        "# winit = ...\n",
        "winit = np.hstack([regr.coef_,regr.intercept_])"
      ]
    },
    {
      "cell_type": "markdown",
      "metadata": {
        "id": "7MOsz_1w1J9f"
      },
      "source": [
        "Now plot the predicted values of the `yhat` vs. `x` using your estimated parameter `winit` for 1000 values `x` in `[0,1]`.  On the same plot, plot `yts` vs. `xts`.  You will see that you get a horrible fit."
      ]
    },
    {
      "cell_type": "code",
      "execution_count": null,
      "metadata": {
        "id": "QSbtMmsC1J9f"
      },
      "outputs": [],
      "source": [
        "# TODO 9\n",
        "# xp = ...\n",
        "# yhat = ...\n",
        "# plot(...)\n",
        "xp = np.linspace(0, 1, 1000)\n",
        "yhat = predict(winit, xp)\n",
        "plt.plot(xts, yts, 'o', xp, yhat)"
      ]
    },
    {
      "cell_type": "markdown",
      "metadata": {
        "id": "ecNjCzed1J9f"
      },
      "source": [
        "The reason the previous fit is poor is that the denominator in `yhat` goes close to zero.   To avoid this problem, we can use Ridge regression, to try to keep the parameters close to zero.  Re-run the fit above with `Ridge` with `alpha = 1e-3`. You should see you get a reasonable, but not perfect fit."
      ]
    },
    {
      "cell_type": "code",
      "execution_count": null,
      "metadata": {
        "id": "4uZRagi91J9f"
      },
      "outputs": [],
      "source": [
        "# TODO 10.  Fit with parameters with linear regression\n",
        "# regr = Ridge(alpha=1e-3)\n",
        "# regr.fit(...)\n",
        "regr = Ridge(alpha=1e-3)\n",
        "regr.fit(Z,ytr)\n",
        "\n",
        "# TODO 11\n",
        "# Extract the parameters from regr.coef_ and regr.intercept_\n",
        "# winit = ...\n",
        "winit = np.hstack([regr.coef_,regr.intercept_])\n",
        "\n",
        "# TODO 12\n",
        "# Plot the results as above.\n",
        "xp = np.linspace(0, 1, 1000)\n",
        "yhat = predict(winit, xp)\n",
        "plt.plot(xts, yts, 'o', xp, yhat)"
      ]
    },
    {
      "cell_type": "markdown",
      "metadata": {
        "id": "V4KavbJ11J9f"
      },
      "source": [
        "## Creating a Loss Function\n",
        "\n",
        "We can now use gradient descent to improve our initial estimate.  Complete the following function to compute\n",
        "\n",
        "    f(w) = 0.5*\\sum_i (y[i] - yhat[i])^2\n",
        "    \n",
        "and `fgrad`, the gradient of `f(w)`."
      ]
    },
    {
      "cell_type": "code",
      "execution_count": null,
      "metadata": {
        "id": "9KSdhNmP1J9g"
      },
      "outputs": [],
      "source": [
        "def feval(w,x,y):\n",
        "\n",
        "\n",
        "    # TODO 13.  Parse w\n",
        "    # a = ...\n",
        "    # b = ...\n",
        "\n",
        "    # TODO 14.  Znum[i,j] = x[i]**j\n",
        "\n",
        "    # TODO 15.  Zden[i,j] = x[i]**(j+1)\n",
        "\n",
        "    # TODO 16.  Compute yhat\n",
        "    # Compute the numerator and denominator\n",
        "\n",
        "    # TODO 17.  Compute loss\n",
        "    # f = ...\n",
        "\n",
        "    # TODO 18.  Compute gradients\n",
        "    # fgrad = ...\n",
        "    a = w[:d+1]\n",
        "    b = w[d+1:]\n",
        "    Znum = x**np.arange(d+1)\n",
        "    Zden = x**(np.arange(d+1)+1)\n",
        "    yhat = np.polyval(a[::-1],x) / (1 + np.polyval(b[::-1],x))\n",
        "    f = 0.5*np.sum((y - yhat)**2)\n",
        "    fgrad = np.zeros(2*d+1)\n",
        "    fgrad[:d+1] = -np.sum((y - yhat)*Znum,axis=0)\n",
        "    fgrad[d+1:] = -np.sum((y - yhat)*Zden,axis=0)\n",
        "    fgrad /= len(y)\n",
        "\n",
        "    return f, fgrad\n"
      ]
    },
    {
      "cell_type": "markdown",
      "metadata": {
        "id": "8TeDRTKG1J9g"
      },
      "source": [
        "Test the gradient function:\n",
        "* Take `w0=winit` and compute `f0,fgrad0 = feval(w0,xtr,ytr)`\n",
        "* Take `w1` very close to `w0` and compute `f1,fgrad1 = feval(w1,xtr,ytr)`\n",
        "* Verify that `f1-f0` is close to the predicted value based on the gradient."
      ]
    },
    {
      "cell_type": "code",
      "execution_count": null,
      "metadata": {
        "id": "vqF2LP6b1J9g"
      },
      "outputs": [],
      "source": [
        "# TODO 19\n",
        "\"\"\"\n",
        "\n",
        "    Take w0=winit and compute f0,fgrad0 = feval(w0,xtr,ytr)\n",
        "    Take w1 very close to w0 and compute f1,fgrad1 = feval(w1,xtr,ytr)\n",
        "    Verify that f1-f0 is close to the predicted value based on the gradient.\n",
        "\"\"\"\n",
        "w0 = winit\n",
        "f0, fgrad = feval(w0,xtr,ytr)\n",
        "w1 = w0 + 1e-6\n",
        "f1, fgrad1 = feval(w1,xtr,ytr)\n",
        "print(f1-f0)"
      ]
    },
    {
      "cell_type": "markdown",
      "metadata": {
        "id": "jXt81jD81J9g"
      },
      "source": [
        "## Implement gradient descent\n",
        "\n",
        "We will now try to minimize the loss function with gradient descent.  Using the function `feval` defined above, implement gradient descent.  Run gradient descent with a step size of `alpha=1e-6` starting at `w=winit`.  Run it for `nit=10000` iterations.  Compute `fgd[it]`= the objective function on iteration `it`.  Plot `fgd[it]` vs. `it`.  \n",
        "\n",
        "You should see that the training loss decreases, but it still hasn't converged after 10000 iterations."
      ]
    },
    {
      "cell_type": "code",
      "execution_count": null,
      "metadata": {
        "id": "B7EIg_Nj1J9g"
      },
      "outputs": [],
      "source": [
        "# TODO 20\n",
        "# fgd = ...\n",
        "nit = 10000\n",
        "step = 1e-6\n"
      ]
    },
    {
      "cell_type": "markdown",
      "metadata": {
        "id": "yebXryu_1J9h"
      },
      "source": [
        "Now, try to get a faster convergence with adaptive step-size using the Armijo rule. Implement the gradient descent with adaptive step size.  Let `fadapt[it]` be the loss function on iteration `it`.  Plot `fadapt[it]` and `fgd[it]` vs. `it` on the same graph.  You should see a slight improvement, but not much."
      ]
    },
    {
      "cell_type": "code",
      "execution_count": null,
      "metadata": {
        "scrolled": true,
        "id": "iYKhHCCD1J9h"
      },
      "outputs": [],
      "source": [
        "# TODO 21\n",
        "# fadapt = ...\n",
        "nit = 10000\n",
        "step = 1e-6  # Initial step"
      ]
    },
    {
      "cell_type": "markdown",
      "metadata": {
        "id": "dM2yJFvB1J9h"
      },
      "source": [
        "Using he final estimate for `w` from the adaptive step-size plot the predicted values of the `yhat` vs. `x` usfor 1000 values `x` in `[0,1]`.  On the same plot, plot `yhat` vs. `x` for the initial parameter `w=winit`.  Also, plot `yts` vs. `xts`.  You should see that gradient descent was able to improve the estimat slightly, although the initial estimate was not too bad."
      ]
    },
    {
      "cell_type": "code",
      "execution_count": null,
      "metadata": {
        "id": "h27U5lf41J9h"
      },
      "outputs": [],
      "source": [
        "# TODO 22\n",
        "# xp = np.linspace(...)\n",
        "# yhat = ...\n",
        "# plot(...)\n",
        "xp = np.linspace(0, 1, 1000)\n",
        "yhat = predict(winit, xp)\n",
        "plt.plot(xts, yts, 'o', xp, yhat)"
      ]
    },
    {
      "cell_type": "markdown",
      "metadata": {
        "id": "T9Mj5XPc1J9h"
      },
      "source": [
        "## Momentum Gradient Descent\n",
        "\n",
        "This section is bonus.\n",
        "\n",
        "One way to improve gradient descent is to use *momentum*.  In momentum gradient descent, the update rule is:\n",
        "\n",
        "    f, fgrad = feval(w,...)\n",
        "    z = beta*z + fgrad\n",
        "    w = w - step*z\n",
        "    \n",
        "This is similar to gradient descent, except that there is a second order term on the gradient.  Implement this algorithm with `beta = 0.99` and `step=1e-3`.   Compare the convergence of the loss function with gradient descent.  "
      ]
    },
    {
      "cell_type": "code",
      "execution_count": null,
      "metadata": {
        "id": "09zbWAmA1J9h"
      },
      "outputs": [],
      "source": [
        "# TODO 23\n",
        "nit = 1000\n",
        "step = 1e-3\n",
        "beta = 0.99"
      ]
    },
    {
      "cell_type": "code",
      "execution_count": null,
      "metadata": {
        "id": "tFmsKWhy1J9i"
      },
      "outputs": [],
      "source": [
        "# TODO 24\n",
        "# plot yhat vs. x\n",
        "\n",
        "xp = np.linspace(0, 1, 1000)\n",
        "yhat = predict(winit, xp)\n",
        "plt.plot(xts, yts, 'o', xp, yhat)"
      ]
    },
    {
      "cell_type": "markdown",
      "metadata": {
        "id": "6d6aPplH1J9i"
      },
      "source": [
        "## Beyond This Lab\n",
        "In this lab, we have just touched at some of the ideas in optimization.  There are several other important algorithms that you can explore:\n",
        "* [Levenberg-Marquardt](https://en.wikipedia.org/wiki/Levenberg%E2%80%93Marquardt_algorithm) method for non-linear least squares\n",
        "* Newton's method\n",
        "* More difficult non-linear least squares problems."
      ]
    },
    {
      "cell_type": "code",
      "execution_count": null,
      "metadata": {
        "id": "Z4vLQ7ka1J9i"
      },
      "outputs": [],
      "source": []
    }
  ],
  "metadata": {
    "kernelspec": {
      "display_name": "Python 3",
      "language": "python",
      "name": "python3"
    },
    "language_info": {
      "codemirror_mode": {
        "name": "ipython",
        "version": 3
      },
      "file_extension": ".py",
      "mimetype": "text/x-python",
      "name": "python",
      "nbconvert_exporter": "python",
      "pygments_lexer": "ipython3",
      "version": "3.8.5"
    },
    "colab": {
      "provenance": []
    }
  },
  "nbformat": 4,
  "nbformat_minor": 0
}